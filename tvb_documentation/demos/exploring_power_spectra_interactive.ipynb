{
 "cells": [
  {
   "cell_type": "markdown",
   "id": "45b88068",
   "metadata": {},
   "source": [
    "## Power Spectra Interactive Tool"
   ]
  },
  {
   "cell_type": "markdown",
   "id": "e938e537",
   "metadata": {},
   "source": [
    "In this tutorial we will explore the different functionalities of Power Spectra Interactive Tool."
   ]
  },
  {
   "cell_type": "code",
   "execution_count": 1,
   "id": "03250d05",
   "metadata": {},
   "outputs": [
    {
     "name": "stderr",
     "output_type": "stream",
     "text": [
      "/Library/Frameworks/Python.framework/Versions/3.12/lib/python3.12/site-packages/tvb/datatypes/surfaces.py:60: UserWarning: Geodesic distance module is unavailable; some functionality for surfaces will be unavailable.\n",
      "  warnings.warn(msg)\n"
     ]
    }
   ],
   "source": [
    "%matplotlib widget\n",
    "from tvb.simulator.plot.power_spectra_interactive import PowerSpectraInteractive"
   ]
  },
  {
   "cell_type": "code",
   "execution_count": 2,
   "id": "20efba28",
   "metadata": {},
   "outputs": [
    {
     "name": "stdout",
     "output_type": "stream",
     "text": [
      "2024-08-22 09:00:56,776 - WARNING - tvb.basic.readers - File 'hemispheres' not found in ZIP.\n"
     ]
    },
    {
     "name": "stderr",
     "output_type": "stream",
     "text": [
      "/var/folders/v7/dbllwbmn3qv0sk0spbzgpd440000gn/T/ipykernel_22469/608393390.py:18: DeprecationWarning: Call to deprecated class PowerSpectraInteractive. (Use from tvb.contrib.scripts.plot PowerSpectraCoherenceInteractive)\n",
      "  psi = PowerSpectraInteractive(time_series=tsr)\n"
     ]
    }
   ],
   "source": [
    "#Load the demo data\n",
    "import numpy as np\n",
    "data = np.load(\"demo_data_region_16s_2048Hz.npy\")\n",
    "period = 0.00048828125 #NOTE: Providing period in seconds\n",
    "\n",
    "#Create a TVB TimeSeries object\n",
    "import tvb.datatypes.time_series\n",
    "tsr = tvb.datatypes.time_series.TimeSeriesRegion()\n",
    "tsr.data = data\n",
    "tsr.sample_period = period\n",
    "tsr.sample_period_unit = 's'\n",
    "\n",
    "\n",
    "from tvb.datatypes.connectivity import Connectivity\n",
    "tsr.connectivity = Connectivity.from_file()\n",
    "tsr.configure()\n",
    "\n",
    "psi = PowerSpectraInteractive(time_series=tsr)\n",
    "psi.configure()"
   ]
  },
  {
   "cell_type": "code",
   "execution_count": 3,
   "id": "ec965b52",
   "metadata": {},
   "outputs": [
    {
     "data": {
      "application/vnd.jupyter.widget-view+json": {
       "model_id": "2e229f9426534e11967897aa5bd89702",
       "version_major": 2,
       "version_minor": 0
      },
      "text/plain": [
       "GridBox(children=(Output(layout=Layout(border_bottom='solid 1px black', border_left='solid 1px black', border_…"
      ]
     },
     "metadata": {},
     "output_type": "display_data"
    }
   ],
   "source": [
    "psi.show()"
   ]
  },
  {
   "cell_type": "markdown",
   "id": "e33e8842",
   "metadata": {},
   "source": [
    "As you can see in the output above, the control panel consists options to select Mode, State Variable, XY Axis Scale, Normalise, Windowing Function and Segment Length."
   ]
  },
  {
   "cell_type": "markdown",
   "id": "b87b7cd8",
   "metadata": {},
   "source": [
    "### Let's explore each functionality one by one"
   ]
  },
  {
   "cell_type": "markdown",
   "id": "9b01a8d3",
   "metadata": {},
   "source": [
    "##### XY Axis Scale Selector\n",
    "\n",
    "<p>These selectors toggle the scale of X and Y Axis between Linear Scale and Log Scale.</p>\n",
    "\n",
    "<p><b>Try it out yourself:</b> Toggle the Y Axis Scale from Log Scale to Linear Scale.</p>"
   ]
  },
  {
   "cell_type": "markdown",
   "id": "dc22fe45",
   "metadata": {},
   "source": [
    "##### Windowing Function Selector\n",
    "\n",
    "<p>User can choose the desired window function through this selector.</p>\n",
    "\n",
    "<p><b>Try it out yourself:</b> Select Hamming windowing function.</p>"
   ]
  },
  {
   "cell_type": "markdown",
   "id": "fcd43f91",
   "metadata": {},
   "source": [
    "##### Segment Length Selector\n",
    "\n",
    "<p>Select different segment lengths.</p>\n",
    "\n",
    "<p><b>Try it out yourself:</b> Select 1.0 as segment length</p>"
   ]
  },
  {
   "cell_type": "markdown",
   "id": "00ce8884",
   "metadata": {},
   "source": [
    "##### Normalise\n",
    "\n",
    "This selector allows to normalise the waveform.\n",
    "\n",
    "<p><b>Try it out yourself:</b> Normalise the waveform.</p>"
   ]
  },
  {
   "cell_type": "markdown",
   "id": "999f1cc5",
   "metadata": {},
   "source": [
    "##### Mode Selector\n",
    "\n",
    "<p>Select different mode.</p>"
   ]
  },
  {
   "cell_type": "markdown",
   "id": "f67f5f64",
   "metadata": {},
   "source": [
    "##### State Variable Selector\n",
    "\n",
    "<p>Select different State Variables.</p>"
   ]
  }
 ],
 "metadata": {
  "kernelspec": {
   "display_name": "Python 3 (ipykernel)",
   "language": "python",
   "name": "python3"
  },
  "language_info": {
   "codemirror_mode": {
    "name": "ipython",
    "version": 3
   },
   "file_extension": ".py",
   "mimetype": "text/x-python",
   "name": "python",
   "nbconvert_exporter": "python",
   "pygments_lexer": "ipython3",
   "version": "3.12.2"
  }
 },
 "nbformat": 4,
 "nbformat_minor": 5
}
