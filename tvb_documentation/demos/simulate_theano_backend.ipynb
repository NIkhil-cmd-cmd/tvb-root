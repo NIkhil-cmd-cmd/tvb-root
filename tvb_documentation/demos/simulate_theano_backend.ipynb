{
 "cells": [
  {
   "cell_type": "code",
   "execution_count": null,
   "id": "8b52e968",
   "metadata": {},
   "outputs": [],
   "source": [
    "from tvb.simulator.models.oscillator import Generic2dOscillator\n",
    "from tvb.simulator.integrators import HeunStochastic\n",
    "from tvb.simulator.simulator import Simulator\n",
    "from tvb.simulator.monitors import Raw\n",
    "from tvb.datatypes.connectivity import Connectivity\n",
    "from tvb.simulator.backend.theano import TheanoBackend\n",
    "\n",
    "import matplotlib.pyplot as plt\n",
    "import numpy as np\n",
    "import theano.tensor as tt\n",
    "import theano\n",
    "import math\n",
    "from tqdm import tqdm\n",
    "\n",
    "%load_ext autoreload\n",
    "%autoreload 2\n",
    "%matplotlib inline"
   ]
  },
  {
   "cell_type": "code",
   "execution_count": null,
   "id": "0b93a420",
   "metadata": {},
   "outputs": [],
   "source": [
    "# create simulator with oscillator model\n",
    "osc = Generic2dOscillator()\n",
    "conn = Connectivity.from_file()\n",
    "conn.speed = np.r_[3.0]\n",
    "integrator = HeunStochastic(dt=0.01)\n",
    "\n",
    "sim = Simulator(\n",
    "    connectivity=conn,\n",
    "    model=osc,\n",
    "    integrator=integrator,\n",
    "    monitors=[Raw()],\n",
    "    simulation_length=0.1\n",
    ")\n",
    "sim.configure()"
   ]
  },
  {
   "cell_type": "code",
   "execution_count": null,
   "id": "83cd6c9d",
   "metadata": {},
   "outputs": [],
   "source": [
    "buf = sim.history.buffer[...,0]\n",
    "rbuf = np.concatenate((buf[0:1], buf[1:][::-1]), axis=0)\n",
    "state = np.transpose(rbuf, (1, 0, 2)).astype('f')"
   ]
  },
  {
   "cell_type": "code",
   "execution_count": null,
   "id": "aa881523",
   "metadata": {},
   "outputs": [],
   "source": [
    "# run simulation\n",
    "(t, X), = sim.run()"
   ]
  },
  {
   "cell_type": "code",
   "execution_count": null,
   "id": "d0d93d58",
   "metadata": {
    "scrolled": false
   },
   "outputs": [],
   "source": [
    "# generate code with theano backend\n",
    "template = '<%include file=\"theano-sim.py.mako\"/>'\n",
    "kernel = TheanoBackend().build_py_func(template, dict(sim=sim, np=np), print_source=True)"
   ]
  },
  {
   "cell_type": "code",
   "execution_count": null,
   "id": "cc99cd1a",
   "metadata": {},
   "outputs": [],
   "source": [
    "# define arguments for kernel\n",
    "n_svar, _, n_node = state.shape\n",
    "\n",
    "state = tt.as_tensor_variable(state.copy(), name=\"state\")\n",
    "state = state.reshape((n_svar, sim.connectivity.horizon, n_node))\n",
    "\n",
    "weights = tt.as_tensor_variable(sim.connectivity.weights.copy(), name=\"weights\")\n",
    "\n",
    "Xh = tt.zeros((len(t), n_svar, n_node))\n",
    "\n",
    "parmat = sim.model.spatial_parameter_matrix"
   ]
  },
  {
   "cell_type": "code",
   "execution_count": null,
   "id": "173bf061",
   "metadata": {
    "scrolled": false
   },
   "outputs": [],
   "source": [
    "# run simulation with generated code for theano\n",
    "np.random.seed(42)\n",
    "args = state, weights, Xh, parmat, integrator.noise.nsig, sim.connectivity.delay_indices\n",
    "Xh = kernel(*args)"
   ]
  },
  {
   "cell_type": "code",
   "execution_count": null,
   "id": "faba34e5",
   "metadata": {},
   "outputs": [],
   "source": [
    "Xh.eval()"
   ]
  },
  {
   "cell_type": "code",
   "execution_count": null,
   "id": "a5315690",
   "metadata": {},
   "outputs": [],
   "source": []
  }
 ],
 "metadata": {
  "kernelspec": {
   "display_name": "Python 3 (ipykernel)",
   "language": "python",
   "name": "python3"
  },
  "language_info": {
   "codemirror_mode": {
    "name": "ipython",
    "version": 3
   },
   "file_extension": ".py",
   "mimetype": "text/x-python",
   "name": "python",
   "nbconvert_exporter": "python",
   "pygments_lexer": "ipython3",
   "version": "3.9.15"
  }
 },
 "nbformat": 4,
 "nbformat_minor": 5
}
